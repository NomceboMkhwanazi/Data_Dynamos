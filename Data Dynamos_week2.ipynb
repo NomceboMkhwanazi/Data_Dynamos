{
 "cells": [
  {
   "cell_type": "code",
   "execution_count": 1,
   "id": "5cae840b-93c3-4d58-9bde-76ebbcc94fd1",
   "metadata": {},
   "outputs": [
    {
     "name": "stdin",
     "output_type": "stream",
     "text": [
      "Please enter a number:  12\n"
     ]
    },
    {
     "name": "stdout",
     "output_type": "stream",
     "text": [
      "Factorial of 12 is 479001600\n"
     ]
    }
   ],
   "source": [
    "\n",
    "#a.) Create a function that calculates the factorial of a number using loops.\n",
    "# Function that calculates a factorial of a number\n",
    " \n",
    "num = int(input(\"Please enter a number: \"))\n",
    " \n",
    "fact = 1\n",
    "for i in range(1, num + 1):\n",
    "    fact = fact * i\n",
    "print(\"Factorial of\",num,\"is\",fact)"
   ]
  },
  {
   "cell_type": "code",
   "execution_count": 2,
   "id": "18474fba-a5ba-4290-b4f5-d8e236c68f44",
   "metadata": {},
   "outputs": [
    {
     "name": "stdin",
     "output_type": "stream",
     "text": [
      "Enter a number 12\n"
     ]
    },
    {
     "name": "stdout",
     "output_type": "stream",
     "text": [
      "The factorial of 12 is 479001600\n"
     ]
    }
   ],
   "source": [
    "\n",
    "#a function that calculates the factorial of a number using while loop.\n",
    "num=int (input(\"Enter a number\"))\n",
    "fact=1\n",
    "a=1\n",
    "while a<=num:\n",
    "    fact*=a\n",
    "    a+=1\n",
    "print(\"The factorial of\",num,\"is\",fact)"
   ]
  },
  {
   "cell_type": "code",
   "execution_count": 5,
   "id": "37e811c7-4046-4f37-9e01-52335a2c0054",
   "metadata": {},
   "outputs": [
    {
     "name": "stdout",
     "output_type": "stream",
     "text": [
      "The min is: 50\n",
      "The max is: 100\n",
      "The average is: 75\n"
     ]
    }
   ],
   "source": [
    "\n",
    "#Write a Python program that performs operations on a list of numbers (e.g., find the max, min, average).\n",
    "import statistics\n",
    " \n",
    "girls_exam_marks = [50, 65, 70, 90, 100]\n",
    "\n",
    "min_marks = min(girls_exam_marks)\n",
    "max_marks = max(girls_exam_marks)\n",
    "average = statistics.mean(girls_exam_marks)\n",
    "\n",
    "print(\"The min is:\", min_marks)\n",
    "print(\"The max is:\", max_marks)\n",
    "print(\"The average is:\", average)"
   ]
  },
  {
   "cell_type": "code",
   "execution_count": null,
   "id": "1a67eac7-bf33-417b-8c11-99b2369a992e",
   "metadata": {},
   "outputs": [
    {
     "name": "stdout",
     "output_type": "stream",
     "text": [
      "\n",
      "Student Directory Menu:\n",
      "1. Add Student\n",
      "2. Retrieve Student\n",
      "3. Display All Students\n",
      "4. Exit\n"
     ]
    },
    {
     "name": "stdin",
     "output_type": "stream",
     "text": [
      "Choose an option:  2\n",
      "Enter student ID to retrieve:  545654464\n"
     ]
    },
    {
     "name": "stdout",
     "output_type": "stream",
     "text": [
      "Student not found.\n",
      "\n",
      "Student Directory Menu:\n",
      "1. Add Student\n",
      "2. Retrieve Student\n",
      "3. Display All Students\n",
      "4. Exit\n"
     ]
    }
   ],
   "source": [
    "\n",
    "#c. Create a small project where students use dictionaries to store and retrieve information(e.g., a contact book or student grades).\n",
    "\n",
    "def add_student(directory):\n",
    "    student_id = input(\"Enter student ID: \")\n",
    "    name = input(\"Enter student name: \")\n",
    "    age = input(\"Enter student age: \")\n",
    "    major = input(\"Enter student major: \")\n",
    "    directory[student_id] = {\n",
    "        'name': name,\n",
    "        'age': age,\n",
    "        'major': major\n",
    "    }\n",
    "    print(f\"Student {name} added successfully!\")\n",
    " \n",
    "def retrieve_student(directory):\n",
    "    student_id = input(\"Enter student ID to retrieve: \")\n",
    "    student = directory.get(student_id)\n",
    "    if student:\n",
    "        print(f\"ID: {student_id}, Name: {student['name']}, Age: {student['age']}, Major: {student['major']}\")\n",
    "    else:\n",
    "        print(\"Student not found.\")\n",
    " \n",
    "def display_all_students(directory):\n",
    "    if directory:\n",
    "        for student_id, details in directory.items():\n",
    "            print(f\"ID: {student_id}, Name: {details['name']}, Age: {details['age']}, Major: {details['major']}\")\n",
    "    else:\n",
    "        print(\"No students in the directory.\")\n",
    " \n",
    "def main():\n",
    "    student_directory = {}\n",
    "    while True:\n",
    "        print(\"\\nStudent Directory Menu:\")\n",
    "        print(\"1. Add Student\")\n",
    "        print(\"2. Retrieve Student\")\n",
    "        print(\"3. Display All Students\")\n",
    "        print(\"4. Exit\")\n",
    "        choice = input(\"Choose an option: \")\n",
    "        if choice == '1':\n",
    "            add_student(student_directory)\n",
    "        elif choice == '2':\n",
    "            retrieve_student(student_directory)\n",
    "        elif choice == '3':\n",
    "            display_all_students(student_directory)\n",
    "        elif choice == '4':\n",
    "            print(\"Exiting the program.\")\n",
    "            break\n",
    "        else:\n",
    "            print(\"Invalid choice. Please try again.\")\n",
    " \n",
    "if __name__ == \"__main__\":\n",
    "    main()"
   ]
  },
  {
   "cell_type": "code",
   "execution_count": null,
   "id": "a742033a-65da-4a92-b058-6f3232a9437e",
   "metadata": {},
   "outputs": [],
   "source": [
    "2\n"
   ]
  }
 ],
 "metadata": {
  "kernelspec": {
   "display_name": "Python 3 (ipykernel)",
   "language": "python",
   "name": "python3"
  },
  "language_info": {
   "codemirror_mode": {
    "name": "ipython",
    "version": 3
   },
   "file_extension": ".py",
   "mimetype": "text/x-python",
   "name": "python",
   "nbconvert_exporter": "python",
   "pygments_lexer": "ipython3",
   "version": "3.12.4"
  }
 },
 "nbformat": 4,
 "nbformat_minor": 5
}
