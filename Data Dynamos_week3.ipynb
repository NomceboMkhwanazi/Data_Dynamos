{
 "cells": [
  {
   "cell_type": "code",
   "execution_count": 1,
   "id": "f54276a5-c464-4621-a6b5-bd3eb6f58179",
   "metadata": {},
   "outputs": [
    {
     "name": "stdout",
     "output_type": "stream",
     "text": [
      "CSV file created successfully!\n"
     ]
    }
   ],
   "source": [
    "#Question 1: Write a program to create a CSV file named student_scores.csv with columns: Name, Subject, and Score. Add at least five rows of data.\n",
    "\n",
    "import csv\n",
    "header = ['Name', 'Subject', 'Score']\n",
    "data = [\n",
    "    ['Lerato', 'Math', 85],\n",
    "    ['Khensani', 'Science', 90],\n",
    "    ['Nozipo', 'English', 78],\n",
    "    ['Duncan', 'History', 88],\n",
    "    ['Shamaine', 'Math', 92],\n",
    "    [\"Nomcebo\", \"Math\",60],\n",
    "    [\"Malora\", \"Math\",55]\n",
    "]\n",
    "with open('student_scores.csv', mode='w', newline='') as file:\n",
    "    writer = csv.writer(file)\n",
    "    writer.writerow(header)\n",
    "    writer.writerows(data)\n",
    "print(\"CSV file created successfully!\")"
   ]
  },
  {
   "cell_type": "code",
   "execution_count": 3,
   "id": "4f72003a-f609-47ab-83d7-91b5bfa81b93",
   "metadata": {},
   "outputs": [
    {
     "name": "stdout",
     "output_type": "stream",
     "text": [
      "       Name  Subject  Score\n",
      "0    Lerato     Math     85\n",
      "1  Khensani  Science     90\n",
      "2    Nozipo  English     78\n",
      "3    Duncan  History     88\n",
      "4  Shamaine     Math     92\n",
      "5   Nomcebo     Math     60\n",
      "6    Malora     Math     55\n"
     ]
    }
   ],
   "source": [
    "#Question 2: Modify your program to read the data from student_scores.csv and display it in a tabular format using the pandas library.\n",
    "\n",
    "import pandas as pd\n",
    "df= pd.read_csv(\"student_scores.csv\")\n",
    "print(df)\n"
   ]
  },
  {
   "cell_type": "code",
   "execution_count": 5,
   "id": "8bcf68dd-eec8-467d-b4e1-3ccded9f70cd",
   "metadata": {},
   "outputs": [
    {
     "name": "stdout",
     "output_type": "stream",
     "text": [
      "The average score for Math is:73.00\n"
     ]
    }
   ],
   "source": [
    "# Question 3: Calculate and display the average score for the subject \"Mathematics\" from the student_scores.csv file.\n",
    "\n",
    "\n",
    "import pandas as pd\n",
    "df = pd.read_csv(\"student_scores.csv\")\n",
    "math_scores=df[df[\"Subject\"] == \"Math\"]\n",
    "average_math_score = math_scores[\"Score\"].mean()\n",
    "#average_score=math_scores()\n",
    "print(f\"The average score for Math is:{average_math_score:.2f}\")"
   ]
  },
  {
   "cell_type": "code",
   "execution_count": 7,
   "id": "c5b3331c-9ece-47df-b562-4e674d443eba",
   "metadata": {},
   "outputs": [
    {
     "name": "stdout",
     "output_type": "stream",
     "text": [
      "New CSV File created Succesfully with Grades.\n"
     ]
    }
   ],
   "source": [
    "#Question 4: Add a new column named Grade to the CSV file, where the grade is based on the score: A for 80-100, B for 70-79, C for 60-69, and F for below 60.\n",
    "\n",
    "import pandas as pd\n",
    " \n",
    "# Read the CSV file\n",
    "df = pd.read_csv('student_scores.csv')\n",
    " \n",
    "# Define a function to determine the grade\n",
    "def determine_grade(score):\n",
    "    if score >= 80:\n",
    "        return 'A'\n",
    "    elif score >= 70:\n",
    "        return 'B'\n",
    "    elif score >= 60:\n",
    "        return 'C'\n",
    "    else:\n",
    "        return 'F'\n",
    " \n",
    "# Apply the function to create a new 'Grade' column\n",
    "df['Grade'] = df['Score'].apply(determine_grade)\n",
    " \n",
    "# Save the updated DataFrame back to the CSV file\n",
    "df.to_csv('student_scores.csv', index=False)\n",
    "print(\"New CSV File created Succesfully with Grades.\")\n"
   ]
  },
  {
   "cell_type": "code",
   "execution_count": 9,
   "id": "15088c41-84eb-4ffa-9a86-d80135464b5a",
   "metadata": {},
   "outputs": [
    {
     "name": "stdout",
     "output_type": "stream",
     "text": [
      "       Name  Subject  Score Grade\n",
      "0    Lerato     Math     85     A\n",
      "1  Khensani  Science     90     A\n",
      "2    Nozipo  English     78     B\n",
      "3    Duncan  History     88     A\n",
      "4  Shamaine     Math     92     A\n",
      "5   Nomcebo     Math     60     C\n",
      "6    Malora     Math     55     F\n"
     ]
    }
   ],
   "source": [
    "\n",
    "#Question 5: Save the updated data with the new Grade column back to the CSV file and read it again to verify the changes\n",
    "\n",
    "# Read the updated CSV file to verify changes\n",
    "updated_df = pd.read_csv('student_scores.csv')\n",
    " \n",
    "# Display the updated DataFrame\n",
    "print(updated_df)"
   ]
  },
  {
   "cell_type": "code",
   "execution_count": null,
   "id": "93fe8107-dd25-4afe-bc25-44ed392db842",
   "metadata": {},
   "outputs": [],
   "source": []
  }
 ],
 "metadata": {
  "kernelspec": {
   "display_name": "Python 3 (ipykernel)",
   "language": "python",
   "name": "python3"
  },
  "language_info": {
   "codemirror_mode": {
    "name": "ipython",
    "version": 3
   },
   "file_extension": ".py",
   "mimetype": "text/x-python",
   "name": "python",
   "nbconvert_exporter": "python",
   "pygments_lexer": "ipython3",
   "version": "3.12.4"
  }
 },
 "nbformat": 4,
 "nbformat_minor": 5
}
